{
 "cells": [
  {
   "attachments": {},
   "cell_type": "markdown",
   "metadata": {},
   "source": [
    "# 数据集分析&处理"
   ]
  },
  {
   "cell_type": "code",
   "execution_count": 1,
   "metadata": {},
   "outputs": [
    {
     "name": "stdout",
     "output_type": "stream",
     "text": [
      "(key) : (shape)\n",
      "cgNum : ()\n",
      "objVal : ()\n",
      "total_cost_time : ()\n",
      "cost_time_list : (69,)\n",
      "RMP_lb_list : (69,)\n",
      "RMP_ub_list : (69,)\n",
      "SPP_objVal_list : (12464,)\n",
      "columnSet : ()\n",
      "bestColumns : (40,)\n",
      "IterOfColumns : ()\n"
     ]
    }
   ],
   "source": [
    "'''\n",
    "File: dataAnalysis.ipynb\n",
    "Project: pretrain\n",
    "File Created: Monday, 10th April 2023 10:08:19 am\n",
    "Author: Charles Lee (lmz22@mails.tsinghua.edu.cn)\n",
    "'''\n",
    "import numpy as np\n",
    "import pandas as pd\n",
    "import matplotlib.pyplot as plt\n",
    "import json\n",
    "\n",
    "data = json.load(open('dataset_solved\\VRPTW_GH_solverd\\C1_2_1.json', 'r'))\n",
    "print(\"(key) : (shape)\")\n",
    "for key in data.keys():\n",
    "    print(\"{} : {}\".format(key, np.array(data[key]).shape))"
   ]
  },
  {
   "cell_type": "code",
   "execution_count": 7,
   "metadata": {},
   "outputs": [
    {
     "data": {
      "text/plain": [
       "{'objVal': 0,\n",
       " 'path': [0, 9, 201],\n",
       " 'travelTime': [],\n",
       " 'distance': 78.1,\n",
       " 'load': 0}"
      ]
     },
     "execution_count": 7,
     "metadata": {},
     "output_type": "execute_result"
    }
   ],
   "source": [
    "data[\"columnSet\"][\"cg_9\"]"
   ]
  },
  {
   "cell_type": "code",
   "execution_count": 3,
   "metadata": {},
   "outputs": [
    {
     "data": {
      "text/plain": [
       "['cg_62',\n",
       " 'cg_217',\n",
       " 'cg_273',\n",
       " 'cg_358',\n",
       " 'cg_497',\n",
       " 'cg_499',\n",
       " 'cg_1708',\n",
       " 'cg_3892',\n",
       " 'cg_5388',\n",
       " 'cg_6072',\n",
       " 'cg_6705',\n",
       " 'cg_6870',\n",
       " 'cg_6917',\n",
       " 'cg_7281',\n",
       " 'cg_7708',\n",
       " 'cg_8363',\n",
       " 'cg_8983',\n",
       " 'cg_9014',\n",
       " 'cg_9051',\n",
       " 'cg_9105',\n",
       " 'cg_9124',\n",
       " 'cg_9280',\n",
       " 'cg_9331',\n",
       " 'cg_9412',\n",
       " 'cg_9657',\n",
       " 'cg_9798',\n",
       " 'cg_9826',\n",
       " 'cg_9958',\n",
       " 'cg_10088',\n",
       " 'cg_10112',\n",
       " 'cg_10131',\n",
       " 'cg_10161',\n",
       " 'cg_10211',\n",
       " 'cg_10293',\n",
       " 'cg_10312',\n",
       " 'cg_10443',\n",
       " 'cg_10541',\n",
       " 'cg_10844',\n",
       " 'cg_11037',\n",
       " 'cg_11649']"
      ]
     },
     "execution_count": 3,
     "metadata": {},
     "output_type": "execute_result"
    }
   ],
   "source": [
    "data[\"bestColumns\"]"
   ]
  },
  {
   "cell_type": "code",
   "execution_count": 4,
   "metadata": {},
   "outputs": [
    {
     "data": {
      "text/plain": [
       "['cg_1',\n",
       " 'cg_2',\n",
       " 'cg_3',\n",
       " 'cg_4',\n",
       " 'cg_5',\n",
       " 'cg_6',\n",
       " 'cg_7',\n",
       " 'cg_8',\n",
       " 'cg_9',\n",
       " 'cg_10',\n",
       " 'cg_11',\n",
       " 'cg_12',\n",
       " 'cg_13',\n",
       " 'cg_14',\n",
       " 'cg_15',\n",
       " 'cg_16',\n",
       " 'cg_17',\n",
       " 'cg_18',\n",
       " 'cg_19',\n",
       " 'cg_20',\n",
       " 'cg_21',\n",
       " 'cg_22',\n",
       " 'cg_23',\n",
       " 'cg_24',\n",
       " 'cg_25',\n",
       " 'cg_26',\n",
       " 'cg_27',\n",
       " 'cg_28',\n",
       " 'cg_29',\n",
       " 'cg_30',\n",
       " 'cg_31',\n",
       " 'cg_32',\n",
       " 'cg_33',\n",
       " 'cg_34',\n",
       " 'cg_35',\n",
       " 'cg_36',\n",
       " 'cg_37',\n",
       " 'cg_38',\n",
       " 'cg_39',\n",
       " 'cg_40',\n",
       " 'cg_41',\n",
       " 'cg_42',\n",
       " 'cg_43',\n",
       " 'cg_44',\n",
       " 'cg_45',\n",
       " 'cg_46',\n",
       " 'cg_47',\n",
       " 'cg_48',\n",
       " 'cg_49',\n",
       " 'cg_50',\n",
       " 'cg_51',\n",
       " 'cg_52',\n",
       " 'cg_53',\n",
       " 'cg_54',\n",
       " 'cg_55',\n",
       " 'cg_56',\n",
       " 'cg_57',\n",
       " 'cg_58',\n",
       " 'cg_59',\n",
       " 'cg_60',\n",
       " 'cg_61',\n",
       " 'cg_62',\n",
       " 'cg_63',\n",
       " 'cg_64',\n",
       " 'cg_65',\n",
       " 'cg_66',\n",
       " 'cg_67',\n",
       " 'cg_68',\n",
       " 'cg_69',\n",
       " 'cg_70',\n",
       " 'cg_71',\n",
       " 'cg_72',\n",
       " 'cg_73',\n",
       " 'cg_74',\n",
       " 'cg_75',\n",
       " 'cg_76',\n",
       " 'cg_77',\n",
       " 'cg_78',\n",
       " 'cg_79',\n",
       " 'cg_80',\n",
       " 'cg_81',\n",
       " 'cg_82',\n",
       " 'cg_83',\n",
       " 'cg_84',\n",
       " 'cg_85',\n",
       " 'cg_86',\n",
       " 'cg_87',\n",
       " 'cg_88',\n",
       " 'cg_89',\n",
       " 'cg_90',\n",
       " 'cg_91',\n",
       " 'cg_92',\n",
       " 'cg_93',\n",
       " 'cg_94',\n",
       " 'cg_95',\n",
       " 'cg_96',\n",
       " 'cg_97',\n",
       " 'cg_98',\n",
       " 'cg_99',\n",
       " 'cg_100',\n",
       " 'cg_101',\n",
       " 'cg_102',\n",
       " 'cg_103',\n",
       " 'cg_104',\n",
       " 'cg_105',\n",
       " 'cg_106',\n",
       " 'cg_107',\n",
       " 'cg_108',\n",
       " 'cg_109',\n",
       " 'cg_110',\n",
       " 'cg_111',\n",
       " 'cg_112',\n",
       " 'cg_113',\n",
       " 'cg_114',\n",
       " 'cg_115',\n",
       " 'cg_116',\n",
       " 'cg_117',\n",
       " 'cg_118',\n",
       " 'cg_119',\n",
       " 'cg_120',\n",
       " 'cg_121',\n",
       " 'cg_122',\n",
       " 'cg_123',\n",
       " 'cg_124',\n",
       " 'cg_125',\n",
       " 'cg_126',\n",
       " 'cg_127',\n",
       " 'cg_128',\n",
       " 'cg_129',\n",
       " 'cg_130',\n",
       " 'cg_131',\n",
       " 'cg_132',\n",
       " 'cg_133',\n",
       " 'cg_134',\n",
       " 'cg_135',\n",
       " 'cg_136',\n",
       " 'cg_137',\n",
       " 'cg_138',\n",
       " 'cg_139',\n",
       " 'cg_140',\n",
       " 'cg_141',\n",
       " 'cg_142',\n",
       " 'cg_143',\n",
       " 'cg_144',\n",
       " 'cg_145',\n",
       " 'cg_146',\n",
       " 'cg_147',\n",
       " 'cg_148',\n",
       " 'cg_149',\n",
       " 'cg_150',\n",
       " 'cg_151',\n",
       " 'cg_152',\n",
       " 'cg_153',\n",
       " 'cg_154',\n",
       " 'cg_155',\n",
       " 'cg_156',\n",
       " 'cg_157',\n",
       " 'cg_158',\n",
       " 'cg_159',\n",
       " 'cg_160',\n",
       " 'cg_161',\n",
       " 'cg_162',\n",
       " 'cg_163',\n",
       " 'cg_164',\n",
       " 'cg_165',\n",
       " 'cg_166',\n",
       " 'cg_167',\n",
       " 'cg_168',\n",
       " 'cg_169',\n",
       " 'cg_170',\n",
       " 'cg_171',\n",
       " 'cg_172',\n",
       " 'cg_173',\n",
       " 'cg_174',\n",
       " 'cg_175',\n",
       " 'cg_176',\n",
       " 'cg_177',\n",
       " 'cg_178',\n",
       " 'cg_179',\n",
       " 'cg_180',\n",
       " 'cg_181',\n",
       " 'cg_182',\n",
       " 'cg_183',\n",
       " 'cg_184',\n",
       " 'cg_185',\n",
       " 'cg_186',\n",
       " 'cg_187',\n",
       " 'cg_188',\n",
       " 'cg_189',\n",
       " 'cg_190',\n",
       " 'cg_191',\n",
       " 'cg_192',\n",
       " 'cg_193',\n",
       " 'cg_194',\n",
       " 'cg_195',\n",
       " 'cg_196',\n",
       " 'cg_197',\n",
       " 'cg_198',\n",
       " 'cg_199',\n",
       " 'cg_200']"
      ]
     },
     "execution_count": 4,
     "metadata": {},
     "output_type": "execute_result"
    }
   ],
   "source": [
    "data[\"IterOfColumns\"]['0']"
   ]
  },
  {
   "cell_type": "code",
   "execution_count": 5,
   "metadata": {},
   "outputs": [
    {
     "ename": "FileNotFoundError",
     "evalue": "[Errno 2] No such file or directory: 'mini_batches.json'",
     "output_type": "error",
     "traceback": [
      "\u001b[1;31m---------------------------------------------------------------------------\u001b[0m",
      "\u001b[1;31mFileNotFoundError\u001b[0m                         Traceback (most recent call last)",
      "\u001b[1;32md:\\Code\\RL-for-CS\\pretrain\\dataAnalysis.ipynb 单元格 6\u001b[0m in \u001b[0;36m<cell line: 1>\u001b[1;34m()\u001b[0m\n\u001b[1;32m----> <a href='vscode-notebook-cell:/d%3A/Code/RL-for-CS/pretrain/dataAnalysis.ipynb#W5sZmlsZQ%3D%3D?line=0'>1</a>\u001b[0m mini_batches \u001b[39m=\u001b[39m json\u001b[39m.\u001b[39mload(\u001b[39mopen\u001b[39;49m(\u001b[39m'\u001b[39;49m\u001b[39mmini_batches.json\u001b[39;49m\u001b[39m'\u001b[39;49m, \u001b[39m'\u001b[39;49m\u001b[39mr\u001b[39;49m\u001b[39m'\u001b[39;49m))\n",
      "\u001b[1;31mFileNotFoundError\u001b[0m: [Errno 2] No such file or directory: 'mini_batches.json'"
     ]
    }
   ],
   "source": [
    "mini_batches = json.load(open('mini_batches.json', 'r'))"
   ]
  },
  {
   "cell_type": "code",
   "execution_count": null,
   "metadata": {},
   "outputs": [
    {
     "data": {
      "text/plain": [
       "69"
      ]
     },
     "execution_count": 8,
     "metadata": {},
     "output_type": "execute_result"
    }
   ],
   "source": [
    "len(mini_batches)"
   ]
  }
 ],
 "metadata": {
  "kernelspec": {
   "display_name": "base",
   "language": "python",
   "name": "python3"
  },
  "language_info": {
   "codemirror_mode": {
    "name": "ipython",
    "version": 3
   },
   "file_extension": ".py",
   "mimetype": "text/x-python",
   "name": "python",
   "nbconvert_exporter": "python",
   "pygments_lexer": "ipython3",
   "version": "3.9.12"
  },
  "orig_nbformat": 4
 },
 "nbformat": 4,
 "nbformat_minor": 2
}
