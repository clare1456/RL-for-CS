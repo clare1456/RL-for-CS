{
 "cells": [
  {
   "attachments": {},
   "cell_type": "markdown",
   "metadata": {},
   "source": [
    "# 数据集分析&处理"
   ]
  },
  {
   "cell_type": "code",
   "execution_count": 4,
   "metadata": {},
   "outputs": [
    {
     "name": "stdout",
     "output_type": "stream",
     "text": [
      "(key) : (shape)\n",
      "cgNum : ()\n",
      "objVal : ()\n",
      "total_cost_time : ()\n",
      "cost_time_list : (69,)\n",
      "RMP_lb_list : (69,)\n",
      "RMP_ub_list : (69,)\n",
      "SPP_objVal_list : (12464,)\n",
      "columnSet : ()\n",
      "bestColumns : (40,)\n",
      "IterOfColumns : ()\n"
     ]
    }
   ],
   "source": [
    "'''\n",
    "File: dataAnalysis.ipynb\n",
    "Project: pretrain\n",
    "File Created: Monday, 10th April 2023 10:08:19 am\n",
    "Author: Charles Lee (lmz22@mails.tsinghua.edu.cn)\n",
    "'''\n",
    "import numpy as np\n",
    "import pandas as pd\n",
    "import matplotlib.pyplot as plt\n",
    "import json\n",
    "\n",
    "data = json.load(open('dataset_solved\\VRPTW_GH_solverd\\C1_2_1.json', 'r'))\n",
    "print(\"(key) : (shape)\")\n",
    "for key in data.keys():\n",
    "    print(\"{} : {}\".format(key, np.array(data[key]).shape))"
   ]
  },
  {
   "cell_type": "code",
   "execution_count": 16,
   "metadata": {},
   "outputs": [
    {
     "data": {
      "text/plain": [
       "{'objVal': 0,\n",
       " 'path': [0, 9, 201],\n",
       " 'travelTime': [],\n",
       " 'distance': 78.1,\n",
       " 'load': 0}"
      ]
     },
     "execution_count": 16,
     "metadata": {},
     "output_type": "execute_result"
    }
   ],
   "source": [
    "data[\"columnSet\"][\"cg_9\"]"
   ]
  },
  {
   "cell_type": "code",
   "execution_count": 20,
   "metadata": {},
   "outputs": [
    {
     "data": {
      "text/plain": [
       "['cg_62',\n",
       " 'cg_217',\n",
       " 'cg_273',\n",
       " 'cg_358',\n",
       " 'cg_497',\n",
       " 'cg_499',\n",
       " 'cg_1708',\n",
       " 'cg_3892',\n",
       " 'cg_5388',\n",
       " 'cg_6072',\n",
       " 'cg_6705',\n",
       " 'cg_6870',\n",
       " 'cg_6917',\n",
       " 'cg_7281',\n",
       " 'cg_7708',\n",
       " 'cg_8363',\n",
       " 'cg_8983',\n",
       " 'cg_9014',\n",
       " 'cg_9051',\n",
       " 'cg_9105',\n",
       " 'cg_9124',\n",
       " 'cg_9280',\n",
       " 'cg_9331',\n",
       " 'cg_9412',\n",
       " 'cg_9657',\n",
       " 'cg_9798',\n",
       " 'cg_9826',\n",
       " 'cg_9958',\n",
       " 'cg_10088',\n",
       " 'cg_10112',\n",
       " 'cg_10131',\n",
       " 'cg_10161',\n",
       " 'cg_10211',\n",
       " 'cg_10293',\n",
       " 'cg_10312',\n",
       " 'cg_10443',\n",
       " 'cg_10541',\n",
       " 'cg_10844',\n",
       " 'cg_11037',\n",
       " 'cg_11649']"
      ]
     },
     "execution_count": 20,
     "metadata": {},
     "output_type": "execute_result"
    }
   ],
   "source": [
    "data[\"bestColumns\"]"
   ]
  },
  {
   "cell_type": "code",
   "execution_count": 19,
   "metadata": {},
   "outputs": [
    {
     "data": {
      "text/plain": [
       "['cg_201',\n",
       " 'cg_202',\n",
       " 'cg_203',\n",
       " 'cg_204',\n",
       " 'cg_205',\n",
       " 'cg_206',\n",
       " 'cg_207',\n",
       " 'cg_208',\n",
       " 'cg_209',\n",
       " 'cg_210',\n",
       " 'cg_211',\n",
       " 'cg_212',\n",
       " 'cg_213',\n",
       " 'cg_214',\n",
       " 'cg_215',\n",
       " 'cg_216',\n",
       " 'cg_217',\n",
       " 'cg_218',\n",
       " 'cg_219',\n",
       " 'cg_220',\n",
       " 'cg_221',\n",
       " 'cg_222',\n",
       " 'cg_223',\n",
       " 'cg_224',\n",
       " 'cg_225',\n",
       " 'cg_226',\n",
       " 'cg_227',\n",
       " 'cg_228',\n",
       " 'cg_229',\n",
       " 'cg_230',\n",
       " 'cg_231',\n",
       " 'cg_232',\n",
       " 'cg_233',\n",
       " 'cg_234',\n",
       " 'cg_235',\n",
       " 'cg_236',\n",
       " 'cg_237',\n",
       " 'cg_238',\n",
       " 'cg_239',\n",
       " 'cg_240',\n",
       " 'cg_241',\n",
       " 'cg_242',\n",
       " 'cg_243',\n",
       " 'cg_244',\n",
       " 'cg_245',\n",
       " 'cg_246',\n",
       " 'cg_247',\n",
       " 'cg_248',\n",
       " 'cg_249',\n",
       " 'cg_250',\n",
       " 'cg_251',\n",
       " 'cg_252',\n",
       " 'cg_253',\n",
       " 'cg_254',\n",
       " 'cg_255',\n",
       " 'cg_256',\n",
       " 'cg_257',\n",
       " 'cg_258',\n",
       " 'cg_259',\n",
       " 'cg_260',\n",
       " 'cg_261',\n",
       " 'cg_262',\n",
       " 'cg_263',\n",
       " 'cg_264',\n",
       " 'cg_265',\n",
       " 'cg_266',\n",
       " 'cg_267',\n",
       " 'cg_268',\n",
       " 'cg_269',\n",
       " 'cg_270',\n",
       " 'cg_271',\n",
       " 'cg_272',\n",
       " 'cg_273',\n",
       " 'cg_274',\n",
       " 'cg_275',\n",
       " 'cg_276',\n",
       " 'cg_277',\n",
       " 'cg_278',\n",
       " 'cg_279',\n",
       " 'cg_280',\n",
       " 'cg_281',\n",
       " 'cg_282',\n",
       " 'cg_283',\n",
       " 'cg_284',\n",
       " 'cg_285',\n",
       " 'cg_286',\n",
       " 'cg_287',\n",
       " 'cg_288',\n",
       " 'cg_289',\n",
       " 'cg_290',\n",
       " 'cg_291',\n",
       " 'cg_292',\n",
       " 'cg_293',\n",
       " 'cg_294',\n",
       " 'cg_295',\n",
       " 'cg_296',\n",
       " 'cg_297',\n",
       " 'cg_298',\n",
       " 'cg_299',\n",
       " 'cg_300',\n",
       " 'cg_301',\n",
       " 'cg_302',\n",
       " 'cg_303',\n",
       " 'cg_304',\n",
       " 'cg_305',\n",
       " 'cg_306',\n",
       " 'cg_307',\n",
       " 'cg_308',\n",
       " 'cg_309',\n",
       " 'cg_310',\n",
       " 'cg_311',\n",
       " 'cg_312',\n",
       " 'cg_313',\n",
       " 'cg_314',\n",
       " 'cg_315',\n",
       " 'cg_316',\n",
       " 'cg_317',\n",
       " 'cg_318',\n",
       " 'cg_319',\n",
       " 'cg_320',\n",
       " 'cg_321',\n",
       " 'cg_322',\n",
       " 'cg_323',\n",
       " 'cg_324',\n",
       " 'cg_325',\n",
       " 'cg_326',\n",
       " 'cg_327',\n",
       " 'cg_328',\n",
       " 'cg_329',\n",
       " 'cg_330']"
      ]
     },
     "execution_count": 19,
     "metadata": {},
     "output_type": "execute_result"
    }
   ],
   "source": [
    "data[\"IterOfColumns\"][\"1\"]"
   ]
  },
  {
   "cell_type": "code",
   "execution_count": 30,
   "metadata": {},
   "outputs": [
    {
     "data": {
      "text/plain": [
       "True"
      ]
     },
     "execution_count": 30,
     "metadata": {},
     "output_type": "execute_result"
    }
   ],
   "source": [
    "data[\"columns\"][\"0\"][\"dualValue\"] == data[\"columns\"][\"1\"][\"dualValue\"] "
   ]
  },
  {
   "cell_type": "code",
   "execution_count": 38,
   "metadata": {},
   "outputs": [
    {
     "data": {
      "text/plain": [
       "dict_keys(['location', 'capacity', 'demand', 'serviceTime', 'nodeNum', 'readyTime', 'dueTime', 'customerNum', 'verticles', 'vehicleNum', 'disMatrix', 'adj', 'feasibleNodeSet', 'dualValue'])"
      ]
     },
     "execution_count": 38,
     "metadata": {},
     "output_type": "execute_result"
    }
   ],
   "source": [
    "data2 = json.load(open('dataset\\CGDataset\\C1_2_1.json', 'r'))\n",
    "data2.keys()"
   ]
  },
  {
   "cell_type": "code",
   "execution_count": 40,
   "metadata": {},
   "outputs": [
    {
     "data": {
      "text/plain": [
       "True"
      ]
     },
     "execution_count": 40,
     "metadata": {},
     "output_type": "execute_result"
    }
   ],
   "source": [
    "data2['verticles'] == list(range(data2['nodeNum']))"
   ]
  },
  {
   "cell_type": "code",
   "execution_count": 51,
   "metadata": {},
   "outputs": [
    {
     "name": "stdout",
     "output_type": "stream",
     "text": [
      "fastest_arrive_time114 = 65.76, dueTime114 = 64.0\n"
     ]
    }
   ],
   "source": [
    "fastest_arrive_time114 = data2[\"disMatrix\"]['0'][114]\n",
    "dueTime114 = data2[\"dueTime\"]['114']\n",
    "print(\"fastest_arrive_time114 = {}, dueTime114 = {}\".format(fastest_arrive_time114, dueTime114))"
   ]
  },
  {
   "cell_type": "code",
   "execution_count": 52,
   "metadata": {},
   "outputs": [
    {
     "name": "stdout",
     "output_type": "stream",
     "text": [
      "fastest_arrive_time93 = 51.04, dueTime93 = 47.0\n"
     ]
    }
   ],
   "source": [
    "fastest_arrive_time93 = data2[\"disMatrix\"]['0'][93]\n",
    "dueTime93 = data2[\"dueTime\"]['93']\n",
    "print(\"fastest_arrive_time93 = {}, dueTime93 = {}\".format(fastest_arrive_time93, dueTime93))"
   ]
  }
 ],
 "metadata": {
  "kernelspec": {
   "display_name": "base",
   "language": "python",
   "name": "python3"
  },
  "language_info": {
   "codemirror_mode": {
    "name": "ipython",
    "version": 3
   },
   "file_extension": ".py",
   "mimetype": "text/x-python",
   "name": "python",
   "nbconvert_exporter": "python",
   "pygments_lexer": "ipython3",
   "version": "3.9.12"
  },
  "orig_nbformat": 4
 },
 "nbformat": 4,
 "nbformat_minor": 2
}
