{
 "cells": [
  {
   "attachments": {},
   "cell_type": "markdown",
   "metadata": {},
   "source": [
    "# 数据集分析&处理"
   ]
  },
  {
   "cell_type": "code",
   "execution_count": 9,
   "metadata": {},
   "outputs": [
    {
     "name": "stdout",
     "output_type": "stream",
     "text": [
      "(key) : (shape)\n",
      "cgNum : ()\n",
      "total_cost_time : ()\n",
      "cost_time_list : (151,)\n",
      "RMP_lb_list : (151,)\n",
      "RMP_ub_list : (151,)\n",
      "SPP_objVal_list : (1286,)\n",
      "objVal : ()\n",
      "columns : ()\n"
     ]
    }
   ],
   "source": [
    "'''\n",
    "File: dataAnalysis.ipynb\n",
    "Project: pretrain\n",
    "File Created: Monday, 10th April 2023 10:08:19 am\n",
    "Author: Charles Lee (lmz22@mails.tsinghua.edu.cn)\n",
    "'''\n",
    "import numpy as np\n",
    "import pandas as pd\n",
    "import matplotlib.pyplot as plt\n",
    "import json\n",
    "\n",
    "data = json.load(open('dataset\\output_gp\\R\\R1_2_1.json', 'r'))\n",
    "print(\"(key) : (shape)\")\n",
    "for key in data.keys():\n",
    "    print(\"{} : {}\".format(key, np.array(data[key]).shape))"
   ]
  },
  {
   "cell_type": "code",
   "execution_count": 36,
   "metadata": {},
   "outputs": [
    {
     "data": {
      "text/plain": [
       "dict_keys(['objVal', 'distance', 'path', 'load', 'dualValue'])"
      ]
     },
     "execution_count": 36,
     "metadata": {},
     "output_type": "execute_result"
    }
   ],
   "source": [
    "data[\"columns\"][\"0\"].keys()"
   ]
  },
  {
   "cell_type": "code",
   "execution_count": 30,
   "metadata": {},
   "outputs": [
    {
     "data": {
      "text/plain": [
       "True"
      ]
     },
     "execution_count": 30,
     "metadata": {},
     "output_type": "execute_result"
    }
   ],
   "source": [
    "data[\"columns\"][\"0\"][\"dualValue\"] == data[\"columns\"][\"1\"][\"dualValue\"] "
   ]
  },
  {
   "cell_type": "code",
   "execution_count": 38,
   "metadata": {},
   "outputs": [
    {
     "data": {
      "text/plain": [
       "dict_keys(['location', 'capacity', 'demand', 'serviceTime', 'nodeNum', 'readyTime', 'dueTime', 'customerNum', 'verticles', 'vehicleNum', 'disMatrix', 'adj', 'feasibleNodeSet', 'dualValue'])"
      ]
     },
     "execution_count": 38,
     "metadata": {},
     "output_type": "execute_result"
    }
   ],
   "source": [
    "data2 = json.load(open('dataset\\CGDataset\\C1_2_1.json', 'r'))\n",
    "data2.keys()"
   ]
  },
  {
   "cell_type": "code",
   "execution_count": 40,
   "metadata": {},
   "outputs": [
    {
     "data": {
      "text/plain": [
       "True"
      ]
     },
     "execution_count": 40,
     "metadata": {},
     "output_type": "execute_result"
    }
   ],
   "source": [
    "data2['verticles'] == list(range(data2['nodeNum']))"
   ]
  },
  {
   "cell_type": "code",
   "execution_count": 51,
   "metadata": {},
   "outputs": [
    {
     "name": "stdout",
     "output_type": "stream",
     "text": [
      "fastest_arrive_time114 = 65.76, dueTime114 = 64.0\n"
     ]
    }
   ],
   "source": [
    "fastest_arrive_time114 = data2[\"disMatrix\"]['0'][114]\n",
    "dueTime114 = data2[\"dueTime\"]['114']\n",
    "print(\"fastest_arrive_time114 = {}, dueTime114 = {}\".format(fastest_arrive_time114, dueTime114))"
   ]
  },
  {
   "cell_type": "code",
   "execution_count": 52,
   "metadata": {},
   "outputs": [
    {
     "name": "stdout",
     "output_type": "stream",
     "text": [
      "fastest_arrive_time93 = 51.04, dueTime93 = 47.0\n"
     ]
    }
   ],
   "source": [
    "fastest_arrive_time93 = data2[\"disMatrix\"]['0'][93]\n",
    "dueTime93 = data2[\"dueTime\"]['93']\n",
    "print(\"fastest_arrive_time93 = {}, dueTime93 = {}\".format(fastest_arrive_time93, dueTime93))"
   ]
  }
 ],
 "metadata": {
  "kernelspec": {
   "display_name": "base",
   "language": "python",
   "name": "python3"
  },
  "language_info": {
   "codemirror_mode": {
    "name": "ipython",
    "version": 3
   },
   "file_extension": ".py",
   "mimetype": "text/x-python",
   "name": "python",
   "nbconvert_exporter": "python",
   "pygments_lexer": "ipython3",
   "version": "3.9.12"
  },
  "orig_nbformat": 4
 },
 "nbformat": 4,
 "nbformat_minor": 2
}
